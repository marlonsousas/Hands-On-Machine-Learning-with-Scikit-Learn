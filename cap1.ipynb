{
 "cells": [
  {
   "cell_type": "code",
   "execution_count": 1,
   "metadata": {},
   "outputs": [],
   "source": [
    "import pandas as pd\n",
    "import numpy as np\n",
    "import seaborn as sns\n",
    "import matplotlib.pyplot as plt"
   ]
  },
  {
   "cell_type": "code",
   "execution_count": 2,
   "metadata": {},
   "outputs": [
    {
     "name": "stdout",
     "output_type": "stream",
     "text": [
      "WARNING:tensorflow:From c:\\Users\\franc\\Documents\\Classes\\Mãos à Obra Aprendizado de Máquina\\.venv\\Lib\\site-packages\\keras\\src\\losses.py:2976: The name tf.losses.sparse_softmax_cross_entropy is deprecated. Please use tf.compat.v1.losses.sparse_softmax_cross_entropy instead.\n",
      "\n"
     ]
    }
   ],
   "source": [
    "import tensorflow as tf\n",
    "from tensorflow import keras\n",
    "from tensorflow.keras.layers import Dense, Dropout, BatchNormalization, Concatenate\n",
    "from tensorflow.keras.models import Model, Sequential"
   ]
  },
  {
   "cell_type": "markdown",
   "metadata": {},
   "source": [
    "## Dados"
   ]
  },
  {
   "cell_type": "code",
   "execution_count": 3,
   "metadata": {},
   "outputs": [],
   "source": [
    "y = np.array([x**2 for x in range(10000)])\n",
    "x = np.array([x for x in range(10000)])"
   ]
  },
  {
   "cell_type": "code",
   "execution_count": 4,
   "metadata": {},
   "outputs": [
    {
     "data": {
      "text/plain": [
       "array([       0,        1,        4, ..., 99940009, 99960004, 99980001])"
      ]
     },
     "execution_count": 4,
     "metadata": {},
     "output_type": "execute_result"
    }
   ],
   "source": [
    "y"
   ]
  },
  {
   "cell_type": "code",
   "execution_count": 5,
   "metadata": {},
   "outputs": [
    {
     "data": {
      "text/plain": [
       "array([   0,    1,    2, ..., 9997, 9998, 9999])"
      ]
     },
     "execution_count": 5,
     "metadata": {},
     "output_type": "execute_result"
    }
   ],
   "source": [
    "x"
   ]
  },
  {
   "cell_type": "code",
   "execution_count": 6,
   "metadata": {},
   "outputs": [],
   "source": [
    "df = pd.concat([pd.DataFrame(x, columns=[\"x\"]), pd.DataFrame(y, columns=[\"y\"])], axis=1)"
   ]
  },
  {
   "cell_type": "code",
   "execution_count": 7,
   "metadata": {},
   "outputs": [
    {
     "data": {
      "text/html": [
       "<div>\n",
       "<style scoped>\n",
       "    .dataframe tbody tr th:only-of-type {\n",
       "        vertical-align: middle;\n",
       "    }\n",
       "\n",
       "    .dataframe tbody tr th {\n",
       "        vertical-align: top;\n",
       "    }\n",
       "\n",
       "    .dataframe thead th {\n",
       "        text-align: right;\n",
       "    }\n",
       "</style>\n",
       "<table border=\"1\" class=\"dataframe\">\n",
       "  <thead>\n",
       "    <tr style=\"text-align: right;\">\n",
       "      <th></th>\n",
       "      <th>x</th>\n",
       "      <th>y</th>\n",
       "    </tr>\n",
       "  </thead>\n",
       "  <tbody>\n",
       "    <tr>\n",
       "      <th>0</th>\n",
       "      <td>0</td>\n",
       "      <td>0</td>\n",
       "    </tr>\n",
       "    <tr>\n",
       "      <th>1</th>\n",
       "      <td>1</td>\n",
       "      <td>1</td>\n",
       "    </tr>\n",
       "    <tr>\n",
       "      <th>2</th>\n",
       "      <td>2</td>\n",
       "      <td>4</td>\n",
       "    </tr>\n",
       "    <tr>\n",
       "      <th>3</th>\n",
       "      <td>3</td>\n",
       "      <td>9</td>\n",
       "    </tr>\n",
       "    <tr>\n",
       "      <th>4</th>\n",
       "      <td>4</td>\n",
       "      <td>16</td>\n",
       "    </tr>\n",
       "  </tbody>\n",
       "</table>\n",
       "</div>"
      ],
      "text/plain": [
       "   x   y\n",
       "0  0   0\n",
       "1  1   1\n",
       "2  2   4\n",
       "3  3   9\n",
       "4  4  16"
      ]
     },
     "execution_count": 7,
     "metadata": {},
     "output_type": "execute_result"
    }
   ],
   "source": [
    "df.head()"
   ]
  },
  {
   "cell_type": "code",
   "execution_count": 8,
   "metadata": {},
   "outputs": [
    {
     "data": {
      "image/png": "[encoded data removed]",
      "text/plain": [
       "<Figure size 640x480 with 1 Axes>"
      ]
     },
     "metadata": {},
     "output_type": "display_data"
    }
   ],
   "source": [
    "sns.scatterplot(data=df, x=\"x\", y=\"y\");"
   ]
  },
  {
   "cell_type": "markdown",
   "metadata": {},
   "source": [
    "## Model"
   ]
  },
  {
   "cell_type": "code",
   "execution_count": 9,
   "metadata": {},
   "outputs": [],
   "source": [
    "from sklearn.model_selection import train_test_split"
   ]
  },
  {
   "cell_type": "code",
   "execution_count": 28,
   "metadata": {},
   "outputs": [],
   "source": [
    "x = np.array([x for x in range(10000)])\n",
    "y = np.array([x**2 for x in range(10000)])"
   ]
  },
  {
   "cell_type": "code",
   "execution_count": 29,
   "metadata": {},
   "outputs": [
    {
     "data": {
      "text/plain": [
       "array([   0,    1,    2, ..., 9997, 9998, 9999])"
      ]
     },
     "execution_count": 29,
     "metadata": {},
     "output_type": "execute_result"
    }
   ],
   "source": [
    "x"
   ]
  },
  {
   "cell_type": "code",
   "execution_count": 60,
   "metadata": {},
   "outputs": [],
   "source": [
    "x_new = x.astype(np.float32)\n",
    "y_new = y.astype(np.float32)"
   ]
  },
  {
   "cell_type": "code",
   "execution_count": 61,
   "metadata": {},
   "outputs": [
    {
     "name": "stderr",
     "output_type": "stream",
     "text": [
      "C:\\Users\\franc\\AppData\\Local\\Temp\\ipykernel_10572\\2050255199.py:1: RuntimeWarning: divide by zero encountered in log\n",
      "  x_new = np.log(x_new)\n"
     ]
    }
   ],
   "source": [
    "x_new = np.log(x_new)"
   ]
  },
  {
   "cell_type": "code",
   "execution_count": 62,
   "metadata": {},
   "outputs": [],
   "source": [
    "#x_new = x / np.max(x)\n",
    "#y_new = y / np.max(y)"
   ]
  },
  {
   "cell_type": "code",
   "execution_count": 63,
   "metadata": {},
   "outputs": [
    {
     "data": {
      "text/plain": [
       "[<matplotlib.lines.Line2D at 0x2d781bb52d0>]"
      ]
     },
     "execution_count": 63,
     "metadata": {},
     "output_type": "execute_result"
    },
    {
     "data": {
      "image/png": "[encoded data removed]",
      "text/plain": [
       "<Figure size 640x480 with 1 Axes>"
      ]
     },
     "metadata": {},
     "output_type": "display_data"
    }
   ],
   "source": [
    "plt.plot(x_new, y_new)"
   ]
  },
  {
   "cell_type": "code",
   "execution_count": 64,
   "metadata": {},
   "outputs": [],
   "source": [
    "x_train, x_test, y_train, y_test = train_test_split(x_new, y_new, test_size=0.2)"
   ]
  },
  {
   "cell_type": "code",
   "execution_count": 65,
   "metadata": {},
   "outputs": [],
   "source": [
    "model = Sequential()\n",
    "#model.add(Dense(10, input_shape=[1]))\n",
    "#model.add(Dense(100, activation=\"ex\"))\n",
    "#model.add(Dropout(0.2))\n",
    "#model.add(Dense(100, activation=\"relu\"))\n",
    "#model.add(BatchNormalization())\n",
    "model.add(Dense(1,input_dim=1, activation=\"exponential\"))"
   ]
  },
  {
   "cell_type": "code",
   "execution_count": 66,
   "metadata": {},
   "outputs": [],
   "source": [
    "model.compile(loss=keras.losses.mean_squared_error, metrics=[keras.metrics.R2Score()], optimizer=\"adam\")"
   ]
  },
  {
   "cell_type": "code",
   "execution_count": 67,
   "metadata": {},
   "outputs": [
    {
     "name": "stdout",
     "output_type": "stream",
     "text": [
      "Epoch 1/20\n",
      "250/250 [==============================] - 2s 3ms/step - loss: 1950282237870080.0000 - r2_score: -1.1869 - val_loss: 1713592093114368.0000 - val_r2_score: -0.9555\n",
      "Epoch 2/20\n",
      "250/250 [==============================] - 1s 3ms/step - loss: 382889690660864.0000 - r2_score: 0.5707 - val_loss: 479785091072.0000 - val_r2_score: 0.9995\n",
      "Epoch 3/20\n",
      "250/250 [==============================] - 1s 3ms/step - loss: 458366779392.0000 - r2_score: 0.9995 - val_loss: 475687026688.0000 - val_r2_score: 0.9995\n",
      "Epoch 4/20\n",
      "250/250 [==============================] - 1s 2ms/step - loss: 457904455680.0000 - r2_score: 0.9995 - val_loss: 475206287360.0000 - val_r2_score: 0.9995\n",
      "Epoch 5/20\n",
      "250/250 [==============================] - 1s 2ms/step - loss: 455588151296.0000 - r2_score: 0.9995 - val_loss: 472941002752.0000 - val_r2_score: 0.9995\n",
      "Epoch 6/20\n",
      "250/250 [==============================] - 1s 2ms/step - loss: 452958814208.0000 - r2_score: 0.9995 - val_loss: 468564705280.0000 - val_r2_score: 0.9995\n",
      "Epoch 7/20\n",
      "250/250 [==============================] - 0s 2ms/step - loss: 451931832320.0000 - r2_score: 0.9995 - val_loss: 474941521920.0000 - val_r2_score: 0.9995\n",
      "Epoch 8/20\n",
      "250/250 [==============================] - 1s 2ms/step - loss: 451474358272.0000 - r2_score: 0.9995 - val_loss: 461615955968.0000 - val_r2_score: 0.9995\n",
      "Epoch 9/20\n",
      "250/250 [==============================] - 1s 3ms/step - loss: 445630513152.0000 - r2_score: 0.9995 - val_loss: 457942401024.0000 - val_r2_score: 0.9995\n",
      "Epoch 10/20\n",
      "250/250 [==============================] - 1s 3ms/step - loss: 443363262464.0000 - r2_score: 0.9995 - val_loss: 467869499392.0000 - val_r2_score: 0.9995\n",
      "Epoch 11/20\n",
      "250/250 [==============================] - 1s 3ms/step - loss: 439190945792.0000 - r2_score: 0.9995 - val_loss: 452523884544.0000 - val_r2_score: 0.9995\n",
      "Epoch 12/20\n",
      "250/250 [==============================] - 1s 2ms/step - loss: 432270114816.0000 - r2_score: 0.9995 - val_loss: 443146764288.0000 - val_r2_score: 0.9995\n",
      "Epoch 13/20\n",
      "250/250 [==============================] - 1s 2ms/step - loss: 423908245504.0000 - r2_score: 0.9995 - val_loss: 436356546560.0000 - val_r2_score: 0.9995\n",
      "Epoch 14/20\n",
      "250/250 [==============================] - 1s 2ms/step - loss: 423524040704.0000 - r2_score: 0.9995 - val_loss: 435954614272.0000 - val_r2_score: 0.9995\n",
      "Epoch 15/20\n",
      "250/250 [==============================] - 1s 2ms/step - loss: 412422963200.0000 - r2_score: 0.9995 - val_loss: 469186772992.0000 - val_r2_score: 0.9995\n",
      "Epoch 16/20\n",
      "250/250 [==============================] - 0s 2ms/step - loss: 407859200000.0000 - r2_score: 0.9995 - val_loss: 412039479296.0000 - val_r2_score: 0.9995\n",
      "Epoch 17/20\n",
      "250/250 [==============================] - 0s 2ms/step - loss: 397569687552.0000 - r2_score: 0.9996 - val_loss: 404866301952.0000 - val_r2_score: 0.9995\n",
      "Epoch 18/20\n",
      "250/250 [==============================] - 1s 2ms/step - loss: 386451767296.0000 - r2_score: 0.9996 - val_loss: 388276551680.0000 - val_r2_score: 0.9996\n",
      "Epoch 19/20\n",
      "250/250 [==============================] - 0s 2ms/step - loss: 376583356416.0000 - r2_score: 0.9996 - val_loss: 378061815808.0000 - val_r2_score: 0.9996\n",
      "Epoch 20/20\n",
      "250/250 [==============================] - 1s 2ms/step - loss: 361519939584.0000 - r2_score: 0.9996 - val_loss: 371321569280.0000 - val_r2_score: 0.9996\n"
     ]
    }
   ],
   "source": [
    "history = model.fit(x_train, y_train, epochs=20, validation_data=(x_test, y_test))"
   ]
  },
  {
   "cell_type": "code",
   "execution_count": 68,
   "metadata": {},
   "outputs": [
    {
     "data": {
      "text/plain": [
       "<Axes: >"
      ]
     },
     "execution_count": 68,
     "metadata": {},
     "output_type": "execute_result"
    },
    {
     "data": {
      "image/png": "[encoded data removed]",
      "text/plain": [
       "<Figure size 640x480 with 1 Axes>"
      ]
     },
     "metadata": {},
     "output_type": "display_data"
    }
   ],
   "source": [
    "pd.DataFrame(history.history).plot()"
   ]
  },
  {
   "cell_type": "code",
   "execution_count": 51,
   "metadata": {},
   "outputs": [
    {
     "name": "stdout",
     "output_type": "stream",
     "text": [
      "1/1 [==============================] - 0s 112ms/step\n"
     ]
    },
    {
     "data": {
      "text/plain": [
       "array([[inf]], dtype=float32)"
      ]
     },
     "execution_count": 51,
     "metadata": {},
     "output_type": "execute_result"
    }
   ],
   "source": [
    "model.predict(np.array([]))"
   ]
  },
  {
   "cell_type": "code",
   "execution_count": 318,
   "metadata": {},
   "outputs": [
    {
     "name": "stdout",
     "output_type": "stream",
     "text": [
      "313/313 [==============================] - 0s 986us/step\n",
      "Valor real: 0, Previsão: 4461.2958984375\n",
      "Valor real: 2, Previsão: 4465.02392578125\n",
      "Valor real: 4, Previsão: 4468.7509765625\n",
      "Valor real: 6, Previsão: 4472.47998046875\n",
      "Valor real: 8, Previsão: 4476.20751953125\n"
     ]
    }
   ],
   "source": [
    "x_test = np.array([x for x in range(10000)])\n",
    "x_test_normalized = x_test / np.max(x_test)\n",
    "predictions_normalized = model.predict(x_test_normalized)\n",
    "\n",
    "# Desnormalizando as previsões para comparação com os valores reais\n",
    "predictions = predictions_normalized * np.max(y)\n",
    "\n",
    "# Visualizando alguns resultados\n",
    "for i in range(5):\n",
    "    print(f\"Valor real: {y[i]}, Previsão: {predictions[i][0]}\")"
   ]
  },
  {
   "cell_type": "code",
   "execution_count": 236,
   "metadata": {},
   "outputs": [
    {
     "name": "stdout",
     "output_type": "stream",
     "text": [
      "Epoch 1/100\n",
      "1/1 [==============================] - 1s 525ms/step - loss: 23011.6875 - r2_score: -6.8829\n",
      "Epoch 2/100\n",
      "1/1 [==============================] - 0s 8ms/step - loss: 2739.4448 - r2_score: 0.0616\n",
      "Epoch 3/100\n",
      "1/1 [==============================] - 0s 8ms/step - loss: 37.7157 - r2_score: 0.9871\n",
      "Epoch 4/100\n",
      "1/1 [==============================] - 0s 7ms/step - loss: 315.4119 - r2_score: 0.8920\n",
      "Epoch 5/100\n",
      "1/1 [==============================] - 0s 8ms/step - loss: 976.7871 - r2_score: 0.6654\n",
      "Epoch 6/100\n",
      "1/1 [==============================] - 0s 7ms/step - loss: 1567.8252 - r2_score: 0.4629\n",
      "Epoch 7/100\n",
      "1/1 [==============================] - 0s 7ms/step - loss: 2032.3512 - r2_score: 0.3038\n",
      "Epoch 8/100\n",
      "1/1 [==============================] - 0s 8ms/step - loss: 2387.3774 - r2_score: 0.1822\n",
      "Epoch 9/100\n",
      "1/1 [==============================] - 0s 8ms/step - loss: 2658.0090 - r2_score: 0.0895\n",
      "Epoch 10/100\n",
      "1/1 [==============================] - 0s 8ms/step - loss: 2865.1028 - r2_score: 0.0185\n",
      "Epoch 11/100\n",
      "1/1 [==============================] - 0s 9ms/step - loss: 3024.1582 - r2_score: -0.0360\n",
      "Epoch 12/100\n",
      "1/1 [==============================] - 0s 8ms/step - loss: 3146.3728 - r2_score: -0.0778\n",
      "Epoch 13/100\n",
      "1/1 [==============================] - 0s 8ms/step - loss: 3239.8076 - r2_score: -0.1098\n",
      "Epoch 14/100\n",
      "1/1 [==============================] - 0s 8ms/step - loss: 3310.2981 - r2_score: -0.1340\n",
      "Epoch 15/100\n",
      "1/1 [==============================] - 0s 7ms/step - loss: 3362.1016 - r2_score: -0.1517\n",
      "Epoch 16/100\n",
      "1/1 [==============================] - 0s 9ms/step - loss: 3398.3442 - r2_score: -0.1641\n",
      "Epoch 17/100\n",
      "1/1 [==============================] - 0s 10ms/step - loss: 3421.3315 - r2_score: -0.1720\n",
      "Epoch 18/100\n",
      "1/1 [==============================] - 0s 9ms/step - loss: 3432.7629 - r2_score: -0.1759\n",
      "Epoch 19/100\n",
      "1/1 [==============================] - 0s 8ms/step - loss: 3433.8794 - r2_score: -0.1763\n",
      "Epoch 20/100\n",
      "1/1 [==============================] - 0s 9ms/step - loss: 3425.5659 - r2_score: -0.1735\n",
      "Epoch 21/100\n",
      "1/1 [==============================] - 0s 8ms/step - loss: 3408.4277 - r2_score: -0.1676\n",
      "Epoch 22/100\n",
      "1/1 [==============================] - 0s 7ms/step - loss: 3382.8391 - r2_score: -0.1588\n",
      "Epoch 23/100\n",
      "1/1 [==============================] - 0s 7ms/step - loss: 3348.9805 - r2_score: -0.1472\n",
      "Epoch 24/100\n",
      "1/1 [==============================] - 0s 8ms/step - loss: 3306.8625 - r2_score: -0.1328\n",
      "Epoch 25/100\n",
      "1/1 [==============================] - 0s 9ms/step - loss: 3256.3423 - r2_score: -0.1155\n",
      "Epoch 26/100\n",
      "1/1 [==============================] - 0s 7ms/step - loss: 3197.1304 - r2_score: -0.0952\n",
      "Epoch 27/100\n",
      "1/1 [==============================] - 0s 7ms/step - loss: 3128.8013 - r2_score: -0.0718\n",
      "Epoch 28/100\n",
      "1/1 [==============================] - 0s 8ms/step - loss: 3050.7876 - r2_score: -0.0451\n",
      "Epoch 29/100\n",
      "1/1 [==============================] - 0s 8ms/step - loss: 2962.3882 - r2_score: -0.0148\n",
      "Epoch 30/100\n",
      "1/1 [==============================] - 0s 7ms/step - loss: 2862.7629 - r2_score: 0.0193\n",
      "Epoch 31/100\n",
      "1/1 [==============================] - 0s 9ms/step - loss: 2750.9407 - r2_score: 0.0576\n",
      "Epoch 32/100\n",
      "1/1 [==============================] - 0s 8ms/step - loss: 2625.8250 - r2_score: 0.1005\n",
      "Epoch 33/100\n",
      "1/1 [==============================] - 0s 8ms/step - loss: 2486.2275 - r2_score: 0.1483\n",
      "Epoch 34/100\n",
      "1/1 [==============================] - 0s 8ms/step - loss: 2330.9106 - r2_score: 0.2015\n",
      "Epoch 35/100\n",
      "1/1 [==============================] - 0s 8ms/step - loss: 2158.6772 - r2_score: 0.2605\n",
      "Epoch 36/100\n",
      "1/1 [==============================] - 0s 8ms/step - loss: 1968.5212 - r2_score: 0.3257\n",
      "Epoch 37/100\n",
      "1/1 [==============================] - 0s 8ms/step - loss: 1759.8748 - r2_score: 0.3971\n",
      "Epoch 38/100\n",
      "1/1 [==============================] - 0s 7ms/step - loss: 1533.0077 - r2_score: 0.4749\n",
      "Epoch 39/100\n",
      "1/1 [==============================] - 0s 8ms/step - loss: 1289.6187 - r2_score: 0.5582\n",
      "Epoch 40/100\n",
      "1/1 [==============================] - 0s 8ms/step - loss: 1033.7147 - r2_score: 0.6459\n",
      "Epoch 41/100\n",
      "1/1 [==============================] - 0s 8ms/step - loss: 772.7917 - r2_score: 0.7353\n",
      "Epoch 42/100\n",
      "1/1 [==============================] - 0s 8ms/step - loss: 519.2242 - r2_score: 0.8221\n",
      "Epoch 43/100\n",
      "1/1 [==============================] - 0s 8ms/step - loss: 291.4698 - r2_score: 0.9002\n",
      "Epoch 44/100\n",
      "1/1 [==============================] - 0s 8ms/step - loss: 114.0685 - r2_score: 0.9609\n",
      "Epoch 45/100\n",
      "1/1 [==============================] - 0s 7ms/step - loss: 14.4942 - r2_score: 0.9950\n",
      "Epoch 46/100\n",
      "1/1 [==============================] - 0s 8ms/step - loss: 14.4076 - r2_score: 0.9951\n",
      "Epoch 47/100\n",
      "1/1 [==============================] - 0s 8ms/step - loss: 114.6787 - r2_score: 0.9607\n",
      "Epoch 48/100\n",
      "1/1 [==============================] - 0s 8ms/step - loss: 280.3883 - r2_score: 0.9040\n",
      "Epoch 49/100\n",
      "1/1 [==============================] - 0s 7ms/step - loss: 441.6674 - r2_score: 0.8487\n",
      "Epoch 50/100\n",
      "1/1 [==============================] - 0s 7ms/step - loss: 523.7343 - r2_score: 0.8206\n",
      "Epoch 51/100\n",
      "1/1 [==============================] - 0s 8ms/step - loss: 491.7992 - r2_score: 0.8315\n",
      "Epoch 52/100\n",
      "1/1 [==============================] - 0s 9ms/step - loss: 370.6475 - r2_score: 0.8730\n",
      "Epoch 53/100\n",
      "1/1 [==============================] - 0s 7ms/step - loss: 220.3095 - r2_score: 0.9245\n",
      "Epoch 54/100\n",
      "1/1 [==============================] - 0s 9ms/step - loss: 95.3624 - r2_score: 0.9673\n",
      "Epoch 55/100\n",
      "1/1 [==============================] - 0s 8ms/step - loss: 22.3424 - r2_score: 0.9923\n",
      "Epoch 56/100\n",
      "1/1 [==============================] - 0s 7ms/step - loss: 1.2503 - r2_score: 0.9996\n",
      "Epoch 57/100\n",
      "1/1 [==============================] - 0s 8ms/step - loss: 17.7213 - r2_score: 0.9939\n",
      "Epoch 58/100\n",
      "1/1 [==============================] - 0s 8ms/step - loss: 53.9665 - r2_score: 0.9815\n",
      "Epoch 59/100\n",
      "1/1 [==============================] - 0s 7ms/step - loss: 94.7450 - r2_score: 0.9675\n",
      "Epoch 60/100\n",
      "1/1 [==============================] - 0s 8ms/step - loss: 129.3408 - r2_score: 0.9557\n",
      "Epoch 61/100\n",
      "1/1 [==============================] - 0s 7ms/step - loss: 151.4843 - r2_score: 0.9481\n",
      "Epoch 62/100\n",
      "1/1 [==============================] - 0s 7ms/step - loss: 158.5618 - r2_score: 0.9457\n",
      "Epoch 63/100\n",
      "1/1 [==============================] - 0s 10ms/step - loss: 150.7845 - r2_score: 0.9483\n",
      "Epoch 64/100\n",
      "1/1 [==============================] - 0s 7ms/step - loss: 130.5056 - r2_score: 0.9553\n",
      "Epoch 65/100\n",
      "1/1 [==============================] - 0s 7ms/step - loss: 101.6777 - r2_score: 0.9652\n",
      "Epoch 66/100\n",
      "1/1 [==============================] - 0s 7ms/step - loss: 69.3349 - r2_score: 0.9762\n",
      "Epoch 67/100\n",
      "1/1 [==============================] - 0s 7ms/step - loss: 38.9629 - r2_score: 0.9867\n",
      "Epoch 68/100\n",
      "1/1 [==============================] - 0s 7ms/step - loss: 15.6518 - r2_score: 0.9946\n",
      "Epoch 69/100\n",
      "1/1 [==============================] - 0s 7ms/step - loss: 3.0459 - r2_score: 0.9990\n",
      "Epoch 70/100\n",
      "1/1 [==============================] - 0s 7ms/step - loss: 2.2975 - r2_score: 0.9992\n",
      "Epoch 71/100\n",
      "1/1 [==============================] - 0s 8ms/step - loss: 11.4539 - r2_score: 0.9961\n",
      "Epoch 72/100\n",
      "1/1 [==============================] - 0s 8ms/step - loss: 25.7779 - r2_score: 0.9912\n",
      "Epoch 73/100\n",
      "1/1 [==============================] - 0s 9ms/step - loss: 39.2236 - r2_score: 0.9866\n",
      "Epoch 74/100\n",
      "1/1 [==============================] - 0s 8ms/step - loss: 46.6420 - r2_score: 0.9840\n",
      "Epoch 75/100\n",
      "1/1 [==============================] - 0s 7ms/step - loss: 45.6867 - r2_score: 0.9843\n",
      "Epoch 76/100\n",
      "1/1 [==============================] - 0s 7ms/step - loss: 37.4084 - r2_score: 0.9872\n",
      "Epoch 77/100\n",
      "1/1 [==============================] - 0s 8ms/step - loss: 25.2990 - r2_score: 0.9913\n",
      "Epoch 78/100\n",
      "1/1 [==============================] - 0s 7ms/step - loss: 13.4811 - r2_score: 0.9954\n",
      "Epoch 79/100\n",
      "1/1 [==============================] - 0s 7ms/step - loss: 5.0737 - r2_score: 0.9983\n",
      "Epoch 80/100\n",
      "1/1 [==============================] - 0s 9ms/step - loss: 1.3997 - r2_score: 0.9995\n",
      "Epoch 81/100\n",
      "1/1 [==============================] - 0s 7ms/step - loss: 2.0675 - r2_score: 0.9993\n",
      "Epoch 82/100\n",
      "1/1 [==============================] - 0s 8ms/step - loss: 5.5797 - r2_score: 0.9981\n",
      "Epoch 83/100\n",
      "1/1 [==============================] - 0s 7ms/step - loss: 10.0611 - r2_score: 0.9966\n",
      "Epoch 84/100\n",
      "1/1 [==============================] - 0s 7ms/step - loss: 13.8486 - r2_score: 0.9953\n",
      "Epoch 85/100\n",
      "1/1 [==============================] - 0s 7ms/step - loss: 15.8439 - r2_score: 0.9946\n",
      "Epoch 86/100\n",
      "1/1 [==============================] - 0s 7ms/step - loss: 15.6430 - r2_score: 0.9946\n",
      "Epoch 87/100\n",
      "1/1 [==============================] - 0s 7ms/step - loss: 13.4864 - r2_score: 0.9954\n",
      "Epoch 88/100\n",
      "1/1 [==============================] - 0s 9ms/step - loss: 10.0912 - r2_score: 0.9965\n",
      "Epoch 89/100\n",
      "1/1 [==============================] - 0s 7ms/step - loss: 6.4064 - r2_score: 0.9978\n",
      "Epoch 90/100\n",
      "1/1 [==============================] - 0s 7ms/step - loss: 3.3464 - r2_score: 0.9989\n",
      "Epoch 91/100\n",
      "1/1 [==============================] - 0s 7ms/step - loss: 1.5504 - r2_score: 0.9995\n",
      "Epoch 92/100\n",
      "1/1 [==============================] - 0s 7ms/step - loss: 1.2264 - r2_score: 0.9996\n",
      "Epoch 93/100\n",
      "1/1 [==============================] - 0s 9ms/step - loss: 2.1245 - r2_score: 0.9993\n",
      "Epoch 94/100\n",
      "1/1 [==============================] - 0s 11ms/step - loss: 3.6548 - r2_score: 0.9987\n",
      "Epoch 95/100\n",
      "1/1 [==============================] - 0s 8ms/step - loss: 5.1131 - r2_score: 0.9982\n",
      "Epoch 96/100\n",
      "1/1 [==============================] - 0s 7ms/step - loss: 5.9312 - r2_score: 0.9980\n",
      "Epoch 97/100\n",
      "1/1 [==============================] - 0s 7ms/step - loss: 5.8562 - r2_score: 0.9980\n",
      "Epoch 98/100\n",
      "1/1 [==============================] - 0s 8ms/step - loss: 4.9909 - r2_score: 0.9983\n",
      "Epoch 99/100\n",
      "1/1 [==============================] - 0s 8ms/step - loss: 3.6972 - r2_score: 0.9987\n",
      "Epoch 100/100\n",
      "1/1 [==============================] - 0s 7ms/step - loss: 2.4208 - r2_score: 0.9992\n",
      "1/1 [==============================] - 0s 69ms/step\n",
      "[[ 424.3678]\n",
      " [1197.8882]\n",
      " [3381.352 ]]\n"
     ]
    }
   ],
   "source": [
    "model = tf.keras.Sequential([ \n",
    "    tf.keras.layers.Dense(units=1, activation=tf.exp, input_shape=[1]) \n",
    "]) \n",
    " \n",
    "# Compile the model \n",
    "model.compile(optimizer=tf.optimizers.Adam(learning_rate=0.1), loss='mse', metrics=[keras.metrics.R2Score()]) \n",
    " \n",
    "# Train the model \n",
    "x_train = [1, 2, 3, 4, 5] \n",
    "y_train = [2.71828, 7.38906, 20.08554, 54.59815, 148.41316] \n",
    "model.fit(x_train, y_train, epochs=100) \n",
    " \n",
    "# Test the model \n",
    "x_test = [6, 7, 8] \n",
    "y_test = model.predict(x_test) \n",
    "print(y_test) "
   ]
  },
  {
   "cell_type": "code",
   "execution_count": null,
   "metadata": {},
   "outputs": [],
   "source": []
  }
 ],
 "metadata": {
  "kernelspec": {
   "display_name": ".venv",
   "language": "python",
   "name": "python3"
  },
  "language_info": {
   "codemirror_mode": {
    "name": "ipython",
    "version": 3
   },
   "file_extension": ".py",
   "mimetype": "text/x-python",
   "name": "python",
   "nbconvert_exporter": "python",
   "pygments_lexer": "ipython3",
   "version": "3.11.5"
  }
 },
 "nbformat": 4,
 "nbformat_minor": 2
}
